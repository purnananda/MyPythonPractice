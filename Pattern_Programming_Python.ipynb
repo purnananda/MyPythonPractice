{
 "cells": [
  {
   "cell_type": "markdown",
   "metadata": {},
   "source": [
    "## Pattern Programming in Python\n",
    "\n",
    "Prepared by: Purnananda Behera\n",
    "\n",
    "- There is a typical structure to print any pattern, i.e. the number of rows and column in the pattern. \n",
    "- Outer loop tells us the number of rows used and inner loop tells us the column used to print pattern."
   ]
  },
  {
   "cell_type": "code",
   "execution_count": 14,
   "metadata": {},
   "outputs": [
    {
     "name": "stdout",
     "output_type": "stream",
     "text": [
      "*\n",
      "* *\n",
      "* * *\n",
      "* * * *\n",
      "* * * * *\n",
      "* * * * * *\n",
      "* * * * * * *\n",
      "* * * * * * * *\n",
      "* * * * * * * * *\n",
      "* * * * * * * * * *\n"
     ]
    }
   ],
   "source": [
    "for i in range(1, 11):\n",
    "    for j in range(1, i):\n",
    "        print(\"*\", end =\" \")\n",
    "    print(\"*\")"
   ]
  },
  {
   "cell_type": "code",
   "execution_count": 18,
   "metadata": {},
   "outputs": [
    {
     "name": "stdout",
     "output_type": "stream",
     "text": [
      "* * * * * * * * * *\n",
      "* * * * * * * * *\n",
      "* * * * * * * *\n",
      "* * * * * * *\n",
      "* * * * * *\n",
      "* * * * *\n",
      "* * * *\n",
      "* * *\n",
      "* *\n",
      "*\n"
     ]
    }
   ],
   "source": [
    "for i in range(1, 11):\n",
    "    for j in range(i, 10):\n",
    "        print(\"*\", end =\" \")\n",
    "    print(\"*\")"
   ]
  },
  {
   "cell_type": "code",
   "execution_count": 20,
   "metadata": {},
   "outputs": [
    {
     "name": "stdout",
     "output_type": "stream",
     "text": [
      "* * * * * * * * * * * * * * * * * * *\n",
      "  * * * * * * * * * * * * * * * * *\n",
      "    * * * * * * * * * * * * * * *\n",
      "      * * * * * * * * * * * * *\n",
      "        * * * * * * * * * * *\n",
      "          * * * * * * * * *\n",
      "            * * * * * * *\n",
      "              * * * * *\n",
      "                * * *\n",
      "                  *\n"
     ]
    }
   ],
   "source": [
    "for i in range(1, 11):\n",
    "    for j in range(1, i):\n",
    "        print(\" \", end =\" \")\n",
    "    for j in range(i, 10):\n",
    "        print(\"*\", end =\" \")\n",
    "    for j in range(i, 10):\n",
    "        print(\"*\", end =\" \")\n",
    "    print(\"*\")"
   ]
  },
  {
   "cell_type": "code",
   "execution_count": 36,
   "metadata": {},
   "outputs": [
    {
     "name": "stdout",
     "output_type": "stream",
     "text": [
      "                    *\n",
      "                  * * *\n",
      "                * * * * *\n",
      "              * * * * * * *\n",
      "            * * * * * * * * *\n",
      "          * * * * * * * * * * *\n",
      "        * * * * * * * * * * * * *\n",
      "      * * * * * * * * * * * * * * *\n",
      "    * * * * * * * * * * * * * * * * *\n",
      "  * * * * * * * * * * * * * * * * * * *\n"
     ]
    }
   ],
   "source": [
    "for i in range(1, 11):\n",
    "    count=11\n",
    "    while(count > i):\n",
    "        print(\" \", end =\" \")\n",
    "        count -=1\n",
    "        \n",
    "    for j in range(1, i):\n",
    "        print(\"*\", end =\" \")\n",
    "        \n",
    "    for j in range(1, i):\n",
    "        print(\"*\", end =\" \")\n",
    "        \n",
    "    print(\"*\")"
   ]
  },
  {
   "cell_type": "code",
   "execution_count": 39,
   "metadata": {},
   "outputs": [
    {
     "name": "stdout",
     "output_type": "stream",
     "text": [
      "1 \n",
      "\n",
      "2 \n",
      "\n",
      "3 \n",
      "\n",
      "4 \n",
      "\n",
      "5 \n",
      "\n",
      "6 \n",
      "\n",
      "7 \n",
      "\n",
      "8 \n",
      "\n",
      "9 \n",
      "\n",
      "10 \n",
      "\n"
     ]
    }
   ],
   "source": [
    "for i in range(1, 11):\n",
    "    print(i, end =\" \") # print in same line.\n",
    "    print(\"\\n\") # create a new line."
   ]
  },
  {
   "cell_type": "markdown",
   "metadata": {},
   "source": [
    "### Fibonacci series \n",
    "- Fibonacci series is defined as a sequence of numbers in which the first two numbers are 1 and 1, or 0 and 1, depending on the selected beginning point of the sequence, and each subsequent number is the sum of the previous two.\n",
    "- Fibonacci Example: 0 1 1 2 3 5 8 13 21 34 55 89 144 "
   ]
  },
  {
   "cell_type": "code",
   "execution_count": 51,
   "metadata": {},
   "outputs": [
    {
     "name": "stdout",
     "output_type": "stream",
     "text": [
      "0 1 1 2 3 5 8 13 21 34 55 89 144 "
     ]
    }
   ],
   "source": [
    "# Fibonacci Programming\n",
    "\n",
    "def Fibonacci(n):\n",
    "    i, a, b, show = 0, 0, 1, 0\n",
    "    \n",
    "    print(a,b, end =\" \")\n",
    "    \n",
    "    while ((a+b) < n):\n",
    "        show = a + b\n",
    "        a = b\n",
    "        b = show\n",
    "        print(show, end =\" \")\n",
    "        # i = i + 1\n",
    "\n",
    "Fibonacci(200)"
   ]
  }
 ],
 "metadata": {
  "kernelspec": {
   "display_name": "Python 3",
   "language": "python",
   "name": "python3"
  },
  "language_info": {
   "codemirror_mode": {
    "name": "ipython",
    "version": 3
   },
   "file_extension": ".py",
   "mimetype": "text/x-python",
   "name": "python",
   "nbconvert_exporter": "python",
   "pygments_lexer": "ipython3",
   "version": "3.7.3"
  }
 },
 "nbformat": 4,
 "nbformat_minor": 2
}
