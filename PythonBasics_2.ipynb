{
 "cells": [
  {
   "cell_type": "markdown",
   "metadata": {},
   "source": [
    "# Python - Basics - 2\n",
    "\n",
    "Document prepared by: Purnanda Behera\n",
    "\n",
    "- Python is a powerful multi-purpose programming language created by Guido van Rossum.\n",
    "- Python is a general-purpose interpreted, interactive, object-oriented, and high-level programming language."
   ]
  },
  {
   "cell_type": "markdown",
   "metadata": {},
   "source": [
    "# 1. Conditions\n",
    "\n",
    "- Python uses boolean variables to evaluate conditions. The boolean values True and False are returned when an expression is compared or evaluated. \n",
    "- The if…elif…else statement is used in Python for decision making.\n"
   ]
  },
  {
   "cell_type": "markdown",
   "metadata": {},
   "source": [
    "#### 1.1 Python if...elif...else Statement\n",
    "\n",
    "- The elif is short for else if. It allows us to check for multiple expressions.\n",
    "- If the condition for if is False, it checks the condition of the next elif block and so on."
   ]
  },
  {
   "cell_type": "code",
   "execution_count": 1,
   "metadata": {},
   "outputs": [
    {
     "name": "stdout",
     "output_type": "stream",
     "text": [
      "3 is a positive number.\n",
      "This is always printed.\n",
      "This is also always printed.\n"
     ]
    }
   ],
   "source": [
    "# If the number is positive, we print an appropriate message\n",
    "\n",
    "num = 3\n",
    "if num > 0:\n",
    "    print(num, \"is a positive number.\")\n",
    "print(\"This is always printed.\")\n",
    "\n",
    "num = -1\n",
    "if num > 0:\n",
    "    print(num, \"is a positive number.\")\n",
    "print(\"This is also always printed.\")"
   ]
  },
  {
   "cell_type": "code",
   "execution_count": 2,
   "metadata": {},
   "outputs": [
    {
     "name": "stdout",
     "output_type": "stream",
     "text": [
      "x is less than y\n",
      "x is less than y\n"
     ]
    }
   ],
   "source": [
    "def TestCondition():\n",
    "  x, y = 10, 100\n",
    "  \n",
    "  # conditional flow uses if, elif, else  \n",
    "  if (x < y):\n",
    "    st = \"x is less than y\"\n",
    "  elif (x == y):\n",
    "    st = \"x is equal with y\"\n",
    "  else:\n",
    "    st = \"x is greater than y\"\n",
    "\n",
    "  print(st)\n",
    "\n",
    "  # conditional statements let you use \"a if C else b\"\n",
    "  st = \"x is less than y\" if(x < y) else \"x is greater than or is same as y\"\n",
    "  print(st)\n",
    "\n",
    "    \n",
    "TestCondition()"
   ]
  },
  {
   "cell_type": "markdown",
   "metadata": {},
   "source": [
    "#### 1.2 Python Nested if statements\n",
    "\n",
    "- We can have a if...elif...else statement inside another if...elif...else statement. This is called nesting in computer programming."
   ]
  },
  {
   "cell_type": "code",
   "execution_count": 7,
   "metadata": {
    "scrolled": true
   },
   "outputs": [
    {
     "name": "stdout",
     "output_type": "stream",
     "text": [
      "Enter a number: 6\n",
      "Positive number\n"
     ]
    }
   ],
   "source": [
    "# In this program, we input a number\n",
    "# check if the number is positive or\n",
    "# negative or zero and display\n",
    "# an appropriate message\n",
    "# This time we use nested if\n",
    "\n",
    "num = float(input(\"Enter a number: \"))\n",
    "if num >= 0:\n",
    "    if num == 0:\n",
    "        print(\"Zero\")\n",
    "    else:\n",
    "        print(\"Positive number\")\n",
    "else:\n",
    "    print(\"Negative number\")"
   ]
  },
  {
   "cell_type": "markdown",
   "metadata": {},
   "source": [
    "# 2. Loop\n",
    "\n",
    "- The for loop in Python is used to iterate over a sequence (list, tuple, string) or other iterable objects. Iterating over a sequence is called traversal.\n",
    "- A loop statement allows us to execute a statement or group of statements multiple times."
   ]
  },
  {
   "cell_type": "code",
   "execution_count": 9,
   "metadata": {},
   "outputs": [
    {
     "name": "stdout",
     "output_type": "stream",
     "text": [
      "Testing while loop. \n",
      "0\n",
      "1\n",
      "2\n",
      "3\n",
      "4\n",
      "Testing for loop. \n",
      "5\n",
      "6\n",
      "7\n",
      "8\n",
      "9\n",
      "Mon\n",
      "Tue\n",
      "Wed\n",
      "Thu\n",
      "Fri\n",
      "Sat\n",
      "Sun\n",
      "5\n",
      "7\n",
      "9\n",
      "0 Mon\n",
      "1 Tue\n",
      "2 Wed\n",
      "3 Thu\n",
      "4 Fri\n",
      "5 Sat\n",
      "6 Sun\n"
     ]
    }
   ],
   "source": [
    "#\n",
    "# Example file for working with loops\n",
    "#\n",
    "\n",
    "def TestLoop():\n",
    "  x = 0\n",
    "\n",
    "  print(\"Testing while loop. \")\n",
    "    \n",
    "  # define a while loop\n",
    "  while (x < 5):\n",
    "     print (x)\n",
    "     x = x + 1\n",
    "\n",
    "  print(\"Testing for loop. \")\n",
    "\n",
    "  # define a for loop\n",
    "  for x in range(5,10):\n",
    "    print (x)\n",
    "    \n",
    "  # use a for loop over a collection\n",
    "  days = [\"Mon\",\"Tue\",\"Wed\",\"Thu\",\"Fri\",\"Sat\",\"Sun\"]\n",
    "  for d in days:\n",
    "    print (d)\n",
    "  \n",
    "  # use the break and continue statements\n",
    "  for x in range(5,10):\n",
    "    #if (x == 7): break\n",
    "    if (x % 2 == 0): continue\n",
    "    print (x)\n",
    "  \n",
    "  #using the enumerate() function to get index \n",
    "  days = [\"Mon\",\"Tue\",\"Wed\",\"Thu\",\"Fri\",\"Sat\",\"Sun\"]\n",
    "  for i, d in enumerate(days):\n",
    "    print (i, d)\n",
    "    \n",
    "TestLoop()"
   ]
  }
 ],
 "metadata": {
  "kernelspec": {
   "display_name": "Python 3",
   "language": "python",
   "name": "python3"
  },
  "language_info": {
   "codemirror_mode": {
    "name": "ipython",
    "version": 3
   },
   "file_extension": ".py",
   "mimetype": "text/x-python",
   "name": "python",
   "nbconvert_exporter": "python",
   "pygments_lexer": "ipython3",
   "version": "3.7.3"
  }
 },
 "nbformat": 4,
 "nbformat_minor": 2
}
